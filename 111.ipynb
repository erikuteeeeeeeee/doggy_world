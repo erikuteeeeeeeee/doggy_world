{
  "nbformat": 4,
  "nbformat_minor": 0,
  "metadata": {
    "kernelspec": {
      "display_name": "Python 3",
      "language": "python",
      "name": "python3"
    },
    "language_info": {
      "codemirror_mode": {
        "name": "ipython",
        "version": 3
      },
      "file_extension": ".py",
      "mimetype": "text/x-python",
      "name": "python",
      "nbconvert_exporter": "python",
      "pygments_lexer": "ipython3",
      "version": "3.7.7"
    },
    "colab": {
      "name": "111.ipynb",
      "provenance": []
    }
  },
  "cells": [
    {
      "cell_type": "markdown",
      "metadata": {
        "id": "NgN9dOVyIu8j"
      },
      "source": [
        "# Module 1: Data Wrangling with Python\n",
        "## Sprint 1: Python Mastery\n",
        "## Part 1: Building Foundational Python Skills For Data Analytics\n"
      ]
    },
    {
      "cell_type": "markdown",
      "metadata": {
        "id": "QvAFv8vlIu81"
      },
      "source": [
        "## About this Module\n",
        "\n",
        "This is the first Module in Turing College Data Science Course.\n",
        "It will introduce you to the fundamentals of Data Science with Python.\n",
        "You will learn how to effectively use Python, NumPy, Pandas, Matplotlib, Seaborn, and Docker for Data Science work.\n",
        "At the end of the Module you will do a Capstone project.\n",
        "This Module assumes that you have learned the Python, Version Control & Markdown basics in the Turing College Data Science Precourse.\n"
      ]
    },
    {
      "cell_type": "markdown",
      "metadata": {
        "id": "bphRXSzYIu82"
      },
      "source": [
        "## About this Sprint\n",
        "\n",
        "One of the core elements of this Sprint will be \"Big Ideas and Little Code in Python\" by Raymond Hettinger.\n",
        "Raymond is Python's core contributor and one of the most amazing teachers of programming in the world.\n",
        "His extraordinary ability to explain how to elegantly solve practical and not trivial business problems using Python.\n",
        "What is even more fascinating is that he manages to do that using \"little code\", which is easy to read, understand, and maintain.\n",
        "Another exceptional resource is the Data Science from Scratch book by Joel Grus.\n",
        "This book is unique, because instead of teaching you how to use the most popular libraries and tools, it shows you how to implement the most useful algorithms from scratch.\n",
        "This approach is so valuable that this book will be your companion not only in this Sprint or Module, but throughout the whole Course.\n",
        "In addition you will do a lot of exercises in Codesignal and Python Workout.\n",
        "These exercises are essential for you to understand how to apply your understanding of programming in practice.\n",
        "This will also allow you to practice writing code succinctly and elegantly.\n",
        "Finally, you will learn some very practical skill that every data scientist should have: writing clean code, using Docker, building your own package, etc.\n"
      ]
    },
    {
      "cell_type": "markdown",
      "metadata": {
        "id": "T5WRU1F0Iu83"
      },
      "source": [
        "## About this Part\n",
        "\n",
        "This Part starts with refreshing your Python skills.\n",
        "You will do a Python Crash Course, learn about random module, comparisons and string literals in Python.\n",
        "You'll be able to practice your Python skills on Codesignal by solving the number guessing game excercise.\n",
        "\n",
        "## Objectives for this Part\n",
        "\n",
        "- Refresh your Python skills.\n",
        "- Learn how to do simulations and resampling.\n",
        "- Learn about Python Random module.\n",
        "- Learn how comparisons work in Python.\n",
        "- Learn about string formatting in Python.\n",
        "- Practice Python skills by completing the Number guessing game exercise.\n",
        "- Practice Python skills on Codesignal.\n",
        "  "
      ]
    },
    {
      "cell_type": "markdown",
      "metadata": {
        "id": "i_5iYQNdIu83"
      },
      "source": [
        "[Data Science from Scratch, 2nd Edition](https://learning.oreilly.com/library/view/data-science-from/9781492041122/)\n",
        "\n",
        "- Chapter 1. Introduction\n",
        "- [Optional] Chapter 2. A Crash Course in Python"
      ]
    },
    {
      "cell_type": "markdown",
      "metadata": {
        "id": "dRKBDjHTIu84"
      },
      "source": [
        "[Big Ideas and Little Code in Python by Raymond Hettinger](https://learning.oreilly.com/videos/modern-python-livelessons/9780134743400)\n",
        "\n",
        "- Introduction\n",
        "- Lesson 1: Building Foundational Python Skills for Data Analytics\n",
        "- Lesson 2: Analyzing Data Using Simulations and Resampling"
      ]
    },
    {
      "cell_type": "markdown",
      "metadata": {
        "id": "UfLlOrlDIu84"
      },
      "source": [
        "Read\n",
        "\n",
        "- [Random module](https://docs.python.org/3/library/random.html)\n",
        "- [Comparisons](https://docs.python.org/3/reference/expressions.html#comparisons)\n",
        "- [Formatted string literals](https://docs.python.org/3/reference/lexical_analysis.html#f-strings)"
      ]
    },
    {
      "cell_type": "markdown",
      "metadata": {
        "id": "T3ShA_ceIu84"
      },
      "source": [
        "[Codesignal Arcade Intro](https://app.codesignal.com/arcade/intro).\n",
        "\n",
        "- Exploring the Waters (14-18).\n",
        "  \n",
        "\n",
        "[Codesignal Arcade Python](https://app.codesignal.com/arcade/python-arcade).\n",
        "\n",
        "- Lambda Illusions (26-29)."
      ]
    },
    {
      "cell_type": "markdown",
      "metadata": {
        "id": "5ISItrpHIu85"
      },
      "source": [
        "[Python Workout](https://learning.oreilly.com/library/view/python-workout/9781617295508/)\n",
        "\n",
        "This is how you should complete this task:\n",
        "\n",
        "- Read the exercise description below.\n",
        "- Try to solve the exercise yourself.\n",
        "- Read the WORKING IT OUT, SOLUTION, and BEYOND THE EXERCISE sections from the book.\n",
        "\n",
        "1 Numeric types | Exercise 1 ■ Number guessing game\n",
        "\n",
        "This first exercise introduces a number of topics that will repeat themselves over your Python career: loops, user input, converting types, and comparing values.\n",
        "\n",
        "More specifically, programs all have to get input to do something interesting, and that input often comes from the user. Knowing how to ask the user for input not only is useful, but allows us to think about the type of data we’re getting, how to convert it into a format we can use, and what the format would be.\n",
        "\n",
        "As you might know, Python only provides two kinds of loops: `for` and `while`. Knowing how to write and use them will serve you well throughout your Python career. The fact that nearly every type of data knows how to work inside of a `for` loop makes such loops common and useful. If you're working with database records, elements in an XML file, or the results from searching for text using regular expressions, you'll be using `for` loops quite a bit.\n",
        "\n",
        "For this exercise\n",
        "\n",
        "- Write a function (`guessing_game`) that takes no arguments.\n",
        "- When run, the function chooses a random integer between 0 and 100 (inclusive).\n",
        "- Then ask the user to guess what number has been chosen.\n",
        "- Each time the user enters a guess, the program indicates one of the following:\n",
        "    - Too high\n",
        "    - Too low\n",
        "    - Just right\n",
        "- If the user guesses correctly, the program exits. Otherwise, the user is asked to try again.\n",
        "- The program only exits after the user guesses correctly.\n",
        "\n",
        "We’ll also be prompting the user to enter text with the input function. We’ll actually be using input quite a bit in this book to ask the user to tell us something. The function takes a single string as an argument, which is displayed to the user. The function then returns the string containing whatever the user entered; for example:\n",
        "\n",
        "```python\n",
        "name = input('Enter your name: ')\n",
        "print(f'Hello, {name}!')\n",
        "```\n",
        "\n",
        "NOTE If the user simply presses Enter when presented with the input prompt, the value returned by `input` is an empty string, not `None`. Indeed, the return value from `input` will always be a string, regardless of what the user entered.\n",
        "\n",
        "NOTE In Python 2, you would ask the user for input using the `raw_input` function. Python 2’s input function was considered dangerous, since it would ask the user for input and then evaluate the resulting string using the `eval` function. (If you’re interested, see http://mng.bz/6QGG.) In Python 3, the dangerous function has gone away, and the safe one has been renamed `input`."
      ]
    },
    {
      "cell_type": "code",
      "metadata": {
        "colab": {
          "base_uri": "https://localhost:8080/"
        },
        "id": "ydBgz2dgJhCK",
        "outputId": "8ea5f8cd-0bd2-4256-f758-1f2d53085d8e"
      },
      "source": [
        "from random import randint\n",
        "\n",
        "def guessing_game():\n",
        "  number = randint(0, 100)\n",
        "\n",
        "  while True:\n",
        "    guess = int(input(\"ENTER YOUR GUESS: \"))\n",
        "\n",
        "    if guess == number:\n",
        "      print(f\"Yuo are right! The answer is {number}.\")\n",
        "      break\n",
        "\n",
        "    elif guess < number:\n",
        "      print(f\"Your guess {guess} is too low\")\n",
        "    \n",
        "    else:\n",
        "      print(f\"Your guess {guess} is too high.\")\n",
        "\n",
        "\n",
        "guessing_game()"
      ],
      "execution_count": 2,
      "outputs": [
        {
          "output_type": "stream",
          "text": [
            "ENTER YOUR GUESS: 57\n",
            "Your guess 57 is too low\n",
            "ENTER YOUR GUESS: 75\n",
            "Your guess 75 is too high.\n",
            "ENTER YOUR GUESS: 70\n",
            "Your guess 70 is too high.\n",
            "ENTER YOUR GUESS: 65\n",
            "Yuo are right! The answer is 65.\n"
          ],
          "name": "stdout"
        }
      ]
    }
  ]
}